{
  "nbformat": 4,
  "nbformat_minor": 0,
  "metadata": {
    "colab": {
      "name": "lab1_parte1_Juan_Tamayo_Duvan_Cano.ipynb",
      "provenance": [],
      "collapsed_sections": [],
      "toc_visible": true
    },
    "kernelspec": {
      "display_name": "Python 3",
      "language": "python",
      "name": "python3"
    },
    "language_info": {
      "codemirror_mode": {
        "name": "ipython",
        "version": 3
      },
      "file_extension": ".py",
      "mimetype": "text/x-python",
      "name": "python",
      "nbconvert_exporter": "python",
      "pygments_lexer": "ipython3",
      "version": "3.6.9"
    }
  },
  "cells": [
    {
      "cell_type": "markdown",
      "metadata": {
        "id": "zE8l20T-t-DR"
      },
      "source": [
        "**Recuerda que una vez abierto, Da clic en \"Copiar en Drive\", de lo contrario no podras alamancenar tu progreso**\n",
        "\n",
        "Nota: no olvide ir ejecutando las celdas de código de arriba hacia abajo para que no tenga errores de importación de librerías o por falta de definición de variables.\n"
      ]
    },
    {
      "cell_type": "code",
      "metadata": {
        "id": "19BFks1nt-DR",
        "tags": [],
        "colab": {
          "base_uri": "https://localhost:8080/"
        },
        "outputId": "4abe26de-9e91-4221-9f2e-ef6cff92013e"
      },
      "source": [
        "#configuración del laboratorio\n",
        "# Ejecuta esta celda!\n",
        "%load_ext autoreload\n",
        "%autoreload 2\n",
        "#for local\n",
        "#import sys ; sys.path.append('../commons/utils/'); sys.path.append('../commons/utils/data')\n",
        "!wget https://raw.githubusercontent.com/jdariasl/ML_2020/master/Labs/commons/utils/general.py -O general.py\n",
        "from general import configure_lab1_p1\n",
        "configure_lab1_p1()\n",
        "from lab1 import *\n",
        "GRADER_LAB_1_P1, db, x, y = part_1()\n",
        "y = y.reshape(np.size(y), 1)"
      ],
      "execution_count": null,
      "outputs": [
        {
          "output_type": "stream",
          "text": [
            "--2021-03-12 11:46:29--  https://raw.githubusercontent.com/jdariasl/ML_2020/master/Labs/commons/utils/general.py\n",
            "Resolving raw.githubusercontent.com (raw.githubusercontent.com)... 185.199.108.133, 185.199.109.133, 185.199.110.133, ...\n",
            "Connecting to raw.githubusercontent.com (raw.githubusercontent.com)|185.199.108.133|:443... connected.\n",
            "HTTP request sent, awaiting response... 200 OK\n",
            "Length: 14612 (14K) [text/plain]\n",
            "Saving to: ‘general.py’\n",
            "\n",
            "general.py          100%[===================>]  14.27K  --.-KB/s    in 0s      \n",
            "\n",
            "2021-03-12 11:46:29 (45.2 MB/s) - ‘general.py’ saved [14612/14612]\n",
            "\n",
            "lab configuration started\n",
            "installing libraries\n",
            "downloading files\n",
            "lab configured\n",
            "cargando librerias y variables al ambiente\n"
          ],
          "name": "stdout"
        }
      ]
    },
    {
      "cell_type": "markdown",
      "metadata": {
        "id": "1DGtR6cMt-DU"
      },
      "source": [
        "# Laboratorio 1 - Parte 1 Regresión polinomial múltiple\n"
      ]
    },
    {
      "cell_type": "markdown",
      "metadata": {
        "id": "0MJDEwjht-DV"
      },
      "source": [
        "### Ejercicio 1: Contextualización del problema\n",
        "\n",
        "El problema de regresión que abordaremos consiste en predecir el valor de la humedad absoluta en el aire, a partir de varias variables sensadas en el aire (Para más información sobre la base de datos y la contextualización del problema, consulte: http://archive.ics.uci.edu/ml/datasets/air+quality)."
      ]
    },
    {
      "cell_type": "code",
      "metadata": {
        "id": "HeVKE-aot-DV",
        "tags": [],
        "colab": {
          "base_uri": "https://localhost:8080/"
        },
        "outputId": "d23e3c6f-f9c9-474f-ff01-643883543862"
      },
      "source": [
        "# tienes ya cargadas las siguientes variables:\n",
        "print(\"conjunto de datos\", x)\n",
        "print(\"variable a predecir\", y)"
      ],
      "execution_count": null,
      "outputs": [
        {
          "output_type": "stream",
          "text": [
            "conjunto de datos [[   2.6 1360.   150.  ... 1268.    13.6   48.9]\n",
            " [   2.  1292.   112.  ...  972.    13.3   47.7]\n",
            " [   2.2 1402.    88.  ... 1074.    11.9   54. ]\n",
            " ...\n",
            " [   2.4 1142.  -200.  ... 1092.    26.9   18.3]\n",
            " [   2.1 1003.  -200.  ...  770.    28.3   13.5]\n",
            " [   2.2 1071.  -200.  ...  816.    28.5   13.1]]\n",
            "variable a predecir [[0.7578]\n",
            " [0.7255]\n",
            " [0.7502]\n",
            " ...\n",
            " [0.6406]\n",
            " [0.5139]\n",
            " [0.5028]]\n"
          ],
          "name": "stdout"
        }
      ]
    },
    {
      "cell_type": "code",
      "metadata": {
        "id": "-sSUDTQOt-DZ",
        "tags": []
      },
      "source": [
        "#Ejercicio de Codigo\n",
        "def num_muestras_carac(X):\n",
        "    \"\"\"Esta funcion es encargada retornar el numero de muestras\n",
        "        y caracteristicas del conjunto de datos X\n",
        "\n",
        "        X: matriz numpy\n",
        "        retorna:\n",
        "            numero de muestras (int/float)\n",
        "            numero de caracteristicas (int/float)\n",
        "    \"\"\"\n",
        "    cuenta = np.shape(X)\n",
        "    return (cuenta[0], cuenta[1])"
      ],
      "execution_count": null,
      "outputs": []
    },
    {
      "cell_type": "code",
      "metadata": {
        "id": "E3p3FE_Jt-Da",
        "tags": [],
        "colab": {
          "base_uri": "https://localhost:8080/"
        },
        "outputId": "0b64f778-36eb-42c6-8a2c-d2326c3e2e64"
      },
      "source": [
        "## la funcion que prueba tu implementacion\n",
        "GRADER_LAB_1_P1.run_test(\"ejercicio1\", num_muestras_carac)"
      ],
      "execution_count": null,
      "outputs": [
        {
          "output_type": "stream",
          "text": [
            "TEST EXITOSO!\n"
          ],
          "name": "stdout"
        }
      ]
    },
    {
      "cell_type": "code",
      "metadata": {
        "cellView": "form",
        "id": "WjDP5hKtt-Dc"
      },
      "source": [
        "#@title Pregunta Abierta\n",
        "#@markdown  ¿que tipo de problema vamos a resolver? justifique su respuesta \n",
        "respuesta_1 = \"\\\"Es un problema supervisado porque sabemos cual es la variable respuesta, ademas es un problema de regresion debido a que la variable respuesta es continua \\\"\" #@param {type:\"string\"}"
      ],
      "execution_count": null,
      "outputs": []
    },
    {
      "cell_type": "markdown",
      "metadata": {
        "id": "IsCCj-RFt-De"
      },
      "source": [
        "### Ejercicio 2\n",
        "\n",
        "Analice los siguientes métodos de la teoría  de modelos de  *regresión polinomial múltiple*:\n",
        "\n",
        "1. error cuadrático medio (**ECM**)\n",
        "2. modelo de regresión múltiple (**regression**)\n",
        "3. calculo del costo de la regresión (**cost**)\n",
        "4. extension de matriz (**extension_matriz**)\n",
        "\n",
        "La siguiente celda contiene la implementación de estas 4 funciones. Analizar y entender su funcionamiento"
      ]
    },
    {
      "cell_type": "code",
      "metadata": {
        "id": "uautFfy5t-De"
      },
      "source": [
        "def ECM(Y_est,Y):\n",
        "    \"\"\"funcion para calcular el error cuadratico medio\n",
        "    Y_est: debe contener los valores predichos por el modelo evaluar\n",
        "    Y: debe contener los valores reales\n",
        "    retorna: error cuadratico medio\n",
        "    \"\"\"\n",
        "    N = np.size(Y)\n",
        "    ecm = np.sum((Y_est.reshape(N,1) - Y.reshape(N,1))**2)/(N)\n",
        "    return ecm \n",
        "\n",
        "def regression(X, W):\n",
        "    \"\"\"calcula la regresión multiple\n",
        "    X: los valores que corresponden a las caractersiticas\n",
        "    W: son los pesos usadados para realizar la regresión\n",
        "    retorna: valor estimado\n",
        "    \"\"\"    \n",
        "    Yest = np.dot(X,W)    #con np.dot se realiza el producto matricial. Aquí X es dim [Nxd] y W es dim [dx1]\n",
        "    return Yest           #Esta variable contiene la salida de f(X,W)\n",
        "\n",
        "\n",
        "def cost(W,X,Y):\n",
        "    \"\"\"calcula el costo de la regresion\n",
        "    W: son los pesos usadados para realizar la regresión\n",
        "    X: los valores que corresponden a las caractersiticas\n",
        "    Y: el valor de salida esperadas\n",
        "\n",
        "    retorna: valor de costo\n",
        "    \"\"\"    \n",
        "    \n",
        "    m = len(Y)\n",
        "    y_est = regression(X,W)\n",
        "    cost = (1/2*m) * np.sum(np.square(y_est-Y))\n",
        "    return cost\n",
        "\n",
        "def extension_matriz(X):\n",
        "    \"\"\"funcion que realiza la extension de la matriz X\n",
        "    X: los valores que corresponden a las caractersiticas sin extender\n",
        "    Y: el valor de salida esperadas\n",
        "    \n",
        "    retorna: X_ext: matriz con unos extendidos, Y: maitrz con dimensiones ajustadas\n",
        "    \"\"\"\n",
        "    #Obtenemos las dimensiones antes de exteneder la matriz\n",
        "    muestras,caracterisitcas = num_muestras_carac(X)\n",
        "    #Extendemos la matriz X\n",
        "    unos = np.array([np.ones(muestras)])\n",
        "    X_ext = np.concatenate((unos.T, X), axis=1)\n",
        "    X_ext = X_ext.reshape(muestras, caracterisitcas+1)\n",
        "    return (X_ext)\n"
      ],
      "execution_count": null,
      "outputs": []
    },
    {
      "cell_type": "code",
      "metadata": {
        "cellView": "form",
        "id": "L8_MgMs8sBn3"
      },
      "source": [
        "#@title Pregunta Abierta\n",
        "#@markdown  ¿analizando la función extension_matriz, y recordando como actua una regresión, por que va ser necesario realizar esta operacion?\n",
        "respuesta_2 = \"Se debe extender la matriz con una columna de unos para que a la hora de realizar un producto entre matrices no haya problema para operar con el termino independiente\" #@param {type:\"string\"}"
      ],
      "execution_count": null,
      "outputs": []
    },
    {
      "cell_type": "markdown",
      "metadata": {
        "id": "792kf6-pt-Dk"
      },
      "source": [
        "Ahora vamos a completar el código de la regla de actualización de los parámetros del algoritmo de <font color='blue'>gradiente_descedente</font>: \n",
        "\n",
        "$$w_j(iter) = w_j(iter-1) - \\eta \\frac{\\partial E(w)}{\\partial w_j}$$ \n",
        "\n",
        "recordar que \n",
        "\n",
        "$$ \\frac{\\partial E(w)}{\\partial w_j} = \\frac{\\partial E({\\bf{w}})}{\\partial w_j} = \\frac{1}{N}\\sum_{i=1}^{N}\\left( f({\\bf{x}}_i,{\\bf{w}}) - y_i\\right) \\frac{\\partial }{\\partial w_j} f({\\bf{x}}_i, {\\bf{w}})$$\n",
        "\n",
        "recuerda que debe usar las funciones ya implementadas y no usar **ninguna otra libreria**, adicional a las librerias ya pre-cargadas como numpy (la puedes llamar con np.)"
      ]
    },
    {
      "cell_type": "code",
      "metadata": {
        "id": "LTh-Fn3Ft-Dl"
      },
      "source": [
        "## Ejercicio de codigo\n",
        "def gradiente_descendente(X, Y, eta, iteraciones):\n",
        "    \"\"\"Gradiente descendente para regresión lineal múltiple\n",
        "    X: Matriz de datos\n",
        "    Y: vector con los valores a predecir\n",
        "    W: Vector de parámetros del modelo\n",
        "    eta: Taza de aprendizaje\n",
        "\n",
        "    retorna: W el valor de de los parametros de regresión polinomica\n",
        "             costos: array con el costo por iteracion\n",
        "    \"\"\"\n",
        "    # nuevamente usamos la función\n",
        "    # para saber el numero de muestras y caractersiticas\n",
        "    X_ext = extension_matriz(X)\n",
        "    N, caracterisitcas = num_muestras_carac(X_ext)\n",
        "    #Inicializamos el vector de parámetros con ceros y\n",
        "    W = np.zeros((1,caracterisitcas))\n",
        "    W = W.reshape(np.size(W), 1)    \n",
        "    # incializamos vector para almacenar costos\n",
        "    costos = np.zeros(iteraciones)\n",
        "\n",
        "    for i in range(iteraciones):\n",
        "        ## Aca debes completar la funcion! recuerda que solo debes usar numpy (np.funcion_a_usar)\n",
        "        # o las funciones definidas anteriormente\n",
        "        # usa la funcion que hace la regresion y que definimos antes\n",
        "        y_est = regression(X_ext, W)\n",
        "        f_xw_min_yi = y_est-np.array(Y)\n",
        "        temp = regression(X_ext.T, f_xw_min_yi)\n",
        "        # acutaliza\n",
        "        a=(regression(X_ext,W)-Y.reshape(N,1))*X_ext\n",
        "        sum = np.sum(a,axis=0,keepdims=True)\n",
        "        W = W - eta*(sum.T)/N\n",
        "        costos[i] = cost(W,X_ext,Y)\n",
        "        \n",
        "    return W, costos"
      ],
      "execution_count": null,
      "outputs": []
    },
    {
      "cell_type": "code",
      "metadata": {
        "id": "JhwNveWct-Dm",
        "tags": [],
        "colab": {
          "base_uri": "https://localhost:8080/"
        },
        "outputId": "1d785431-2fea-410e-d5c0-264e3f12bcbc"
      },
      "source": [
        "## la funcion que prueba tu implementacion\n",
        "GRADER_LAB_1_P1.run_test(\"ejercicio2\", gradiente_descendente)"
      ],
      "execution_count": null,
      "outputs": [
        {
          "output_type": "stream",
          "text": [
            "TEST EXITOSO!\n"
          ],
          "name": "stdout"
        }
      ]
    },
    {
      "cell_type": "markdown",
      "metadata": {
        "id": "SKjx_cyit-Do"
      },
      "source": [
        "### Ejercicio 3: Entrenamiento\n",
        "\n",
        "Con la función implementada vamos a entrenar un modelo y calcular su error de entrenamiento. Antes de realizar esto, debemos separar nuestro conjunto de datos."
      ]
    },
    {
      "cell_type": "code",
      "metadata": {
        "id": "jlbnCB7qsBn4"
      },
      "source": [
        "# esto para lograr reproductibilidad\n",
        "# de nuestro modelo\n",
        "random.seed(1)\n",
        "# usamos nuestra funcion para obtener el numero de muestras\n",
        "N, _ = num_muestras_carac(x)\n",
        "ind=np.random.permutation(N)\n",
        "Xtrain = x[ind[0:int(math.ceil(0.7*N))],:]\n",
        "Xtest = x[ind[int(math.ceil(0.7*N)):N],:]\n",
        "Ytrain = y[ind[0:int(math.ceil(0.7*N))]]\n",
        "Ytest = y[ind[int(math.ceil(0.7*N)):N]]"
      ],
      "execution_count": null,
      "outputs": []
    },
    {
      "cell_type": "code",
      "metadata": {
        "cellView": "form",
        "id": "FN-97HegsBn4"
      },
      "source": [
        "#@title Pregunta Abierta\n",
        "#@markdown  ¿por qué fue necesario dividir nuestro conjunto de datos? justifique su respuesta \n",
        "respuesta_3 = \"Para realizar pruebas y validaciones a nuestro modelo, esto se debe hacer con datos diferentes a los datos con los que se ha entrenado el modelo, por eso fue necesario dividir nuestro conjunto de datos \" #@param {type:\"string\"}"
      ],
      "execution_count": null,
      "outputs": []
    },
    {
      "cell_type": "markdown",
      "metadata": {
        "id": "WirOVVB3t-Dq"
      },
      "source": [
        "Ahora entrena ejecutando la siguiente linea de codigo y verifiquemos el comportamiento del costo"
      ]
    },
    {
      "cell_type": "code",
      "metadata": {
        "id": "0yZA7wcCt-Dr",
        "tags": [],
        "colab": {
          "base_uri": "https://localhost:8080/",
          "height": 293
        },
        "outputId": "be2545ad-e72d-49e1-cf88-2981f0098e26"
      },
      "source": [
        "W, costo = gradiente_descendente(Xtrain, Ytrain, eta = 0.0001, iteraciones=5)\n",
        "# graficar iteraciones y el costo\n",
        "plt.plot(range(5), costo)"
      ],
      "execution_count": null,
      "outputs": [
        {
          "output_type": "execute_result",
          "data": {
            "text/plain": [
              "[<matplotlib.lines.Line2D at 0x7f6171994dd0>]"
            ]
          },
          "metadata": {
            "tags": []
          },
          "execution_count": 12
        },
        {
          "output_type": "display_data",
          "data": {
            "image/png": "[encoded data removed]",
            "text/plain": [
              "<Figure size 432x288 with 1 Axes>"
            ]
          },
          "metadata": {
            "tags": [],
            "needs_background": "light"
          }
        }
      ]
    },
    {
      "cell_type": "markdown",
      "metadata": {
        "id": "FaJMlrKvsBn5"
      },
      "source": [
        "El costo es la medida interna de nuestro algoritmo de optimización sin embargo, para este tipo de problemas al final debemos evaluar que tan bien estamos modelando nuestra salida. Vamos a evaluar nuestro modelo calculando el error cuadrático medio. Para ello vamos crear a una función. Recuerda usar las funciones definidas anteriormente."
      ]
    },
    {
      "cell_type": "code",
      "metadata": {
        "id": "oi2YMyITt-Du"
      },
      "source": [
        "## Ejercicio de Código\n",
        "def evaluar_modelo (W, X_to_test, Y_True):\n",
        "    \"\"\" funcion que evalua un modelo de regresión usando el error cuadratico medio\n",
        "\n",
        "    W: es un matriz con los parametros del modelo entrenados\n",
        "    X_to_test: conjunto de datos para usar en el evaluamiento del modelo\n",
        "    Y_True: valores reales para usar en el evaluamiento del modelo\n",
        "\n",
        "    retorna: el error cuadratico medio\n",
        "    \"\"\"\n",
        "    ## Comienza a completar tu codigo. recuerda usar la funciones ya definidas\n",
        "    X_to_test_ext = extension_matriz(X_to_test)\n",
        "    y_est = regression(X_to_test_ext, W)# Este esta melo\n",
        "    error = ECM(y_est, Y_True)#\n",
        "\n",
        "    return(error)"
      ],
      "execution_count": null,
      "outputs": []
    },
    {
      "cell_type": "code",
      "metadata": {
        "id": "5J2Y2CR0t-Dw",
        "tags": [],
        "colab": {
          "base_uri": "https://localhost:8080/"
        },
        "outputId": "3cdf7e40-cbe6-4faa-b450-46917be39914"
      },
      "source": [
        "## la funcion que prueba tu implementacion\n",
        "GRADER_LAB_1_P1.run_test(\"ejercicio3\", evaluar_modelo)"
      ],
      "execution_count": null,
      "outputs": [
        {
          "output_type": "stream",
          "text": [
            "TEST EXITOSO!\n"
          ],
          "name": "stdout"
        }
      ]
    },
    {
      "cell_type": "code",
      "metadata": {
        "id": "SkVgkc_5t-Dy",
        "tags": [],
        "colab": {
          "base_uri": "https://localhost:8080/"
        },
        "outputId": "804fe242-e1d5-4a23-e3fd-66d887f0db0e"
      },
      "source": [
        "# y ahora usala para calcular el error, para evaluar el modelo\n",
        "error_train = evaluar_modelo(W, X_to_test = Xtrain,  Y_True = Ytrain)\n",
        "print(\"error en entrenamiento del modelo\", error_train)\n",
        "error_test = evaluar_modelo(W, X_to_test = Xtest,  Y_True = Ytest)\n",
        "print(\"error en la evaluación del modelo\", error_test)"
      ],
      "execution_count": null,
      "outputs": [
        {
          "output_type": "stream",
          "text": [
            "error en entrenamiento del modelo 3.219322749894435e+28\n",
            "error en la evaluación del modelo 3.263960553980382e+28\n"
          ],
          "name": "stdout"
        }
      ]
    },
    {
      "cell_type": "code",
      "metadata": {
        "cellView": "form",
        "id": "Dy9Ft9cJt-D0"
      },
      "source": [
        "#@title Pregunta Abierta\n",
        "#@markdown ¿que conjunto de datos se uso para evaluar el modelo (cual fue el conjunto de datos asignado a X_to_test para el error test)? justifica tu respuesta\n",
        "respuesta_4 = \"Los datos que anteriormente separamos del conjunto que se utilizo para el entrenamiento del modelo (Xtest y Ytest)\" #@param {type:\"string\"}"
      ],
      "execution_count": null,
      "outputs": []
    },
    {
      "cell_type": "code",
      "metadata": {
        "cellView": "form",
        "id": "50C2ZAubt-D2"
      },
      "source": [
        "#@title Pregunta Abierta\n",
        "#@markdown  escribe aqui tu error al evaluar el modelo con tres cifras decimales. ¿Que tan bueno es tu modelo? Justifica tu respuesta.\n",
        "respuesta_5 = \"el error que nos resulto al evaluar el modelo fue 3.263e+40. Es un resultado malo ya que esta magnitud (del error en la evaluaci\\xF3n) representa la diferencia entre el valor real y el obtenido \" #@param {type:\"string\"}"
      ],
      "execution_count": null,
      "outputs": []
    },
    {
      "cell_type": "markdown",
      "metadata": {
        "id": "pq729RWGt-D3"
      },
      "source": [
        "Hasta ahora lo que hemos realizado es un regresión lineal no polinómica. Nuestro siguiente objetivo es tomar esta regresión y transformarla en polinómica. Comprenda el funcionamiento de la función propuesta"
      ]
    },
    {
      "cell_type": "code",
      "metadata": {
        "id": "3OU0ZVLut-D3"
      },
      "source": [
        "#Potencia de polinomio\n",
        "def potenciaPolinomio(X,grado):\n",
        "    \"\"\"calcula la potencia del polinomio\n",
        "    X: los valores que corresponden a las caractersiticas\n",
        "    grado: esl grado para realizar la potencia al polinomio\n",
        "    retorna: el valor de X despues elevarlo al grado del polinimoo indicado\n",
        "    \"\"\"\n",
        "    X2 = X.copy()\n",
        "    \n",
        "    if grado != 1:\n",
        "        for i in range(2,grado+1):\n",
        "            Xadd = X**i\n",
        "            X2 = np.concatenate((X2, Xadd), axis=1)\n",
        "    \n",
        "    return X2"
      ],
      "execution_count": null,
      "outputs": []
    },
    {
      "cell_type": "markdown",
      "metadata": {
        "id": "N37UeA5mt-D5"
      },
      "source": [
        "ahora debemos usar esta función para completar la siguiente.\n",
        "**PISTAS**\n",
        "- Usa las funciones previamente construidas\n",
        "- Para completar `gradiente_descendente_poly` Tener presente que buscamos realizar este proceso: aplicar la `potenciaPolinomio` ->  aplicar gradiente descendente\n",
        "- Para completar `evaluar_modelo_poly` Tener presente que buscamos realizar este proceso: aplicar la `potenciaPolinomio`  -> evaluar el modelo"
      ]
    },
    {
      "cell_type": "code",
      "metadata": {
        "id": "lJd2w7ezt-D5"
      },
      "source": [
        "## Ejercicio de codigo\n",
        "def gradiente_descendente_poly (X, Y, eta, iteraciones, grado):\n",
        "    \"\"\"Gradiente descendente para regresión lineal múltiple\n",
        "    X: Matriz de datos extendida\n",
        "    Y: vector con los valores a predecir\n",
        "    W: Vector de parámetros del modelo\n",
        "    eta: Taza de aprendizaje\n",
        "    iteraciones: numero de iteraciones maximo para el gradiente\n",
        "    grado: el valor del polinomio a usar\n",
        "    \n",
        "    retorna: W el valor de de los parametros de regresión polinomica\n",
        "             costo: array con el valor del costo por cada iteracion\n",
        "            \n",
        "    \"\"\"\n",
        "    ## completa el codigo\n",
        "    #X_ext= extension_matriz(X)\n",
        "    X2 = potenciaPolinomio(X, grado)#\n",
        "    W, costo = gradiente_descendente(X2, Y, eta, iteraciones)#esta se corrige corrigiendo este metodo, espero\n",
        "    return (W, costo)\n",
        "\n",
        "def evaluar_modelo_poly (W, X_to_test, Y_True, grado):\n",
        "    \"\"\" funcion que evalua un modelo de regresión usando el error cuadratico medio\n",
        "\n",
        "    W: es un matriz con los parametros del modelo entrenados\n",
        "    X_to_test: conjunto de datos para usar en el evaluamiento del modelo\n",
        "    Y_True: valores reales para usar en el evaluamiento del modelo\n",
        "    grado: grado del polinimio a usar\n",
        "\n",
        "    retorna: el error cuadratico medio\n",
        "    \"\"\"\n",
        "    ## Comienza a completar tu codigo. recuerda usar la funciones ya definidas\n",
        "    # X_to_test_ext=extension_matriz(X_to_test)\n",
        "    X2 = potenciaPolinomio(X_to_test, grado)\n",
        "    # print(X2)\n",
        "    # print(W)\n",
        "    # y_est=regression(X2,W)\n",
        "    # error = ECM(y_est,Y_True)\n",
        "    error=evaluar_modelo(W,X2,Y_True)\n",
        "    \n",
        "    return(error)"
      ],
      "execution_count": null,
      "outputs": []
    },
    {
      "cell_type": "code",
      "metadata": {
        "id": "ji7q97o1t-D7",
        "tags": [],
        "colab": {
          "base_uri": "https://localhost:8080/"
        },
        "outputId": "496f1f10-2af6-449e-ab8a-a9e5d1ab5b21"
      },
      "source": [
        "## la funcion que prueba tu implementacion\n",
        "GRADER_LAB_1_P1.run_test(\"ejercicio4\", gradiente_descendente_poly)"
      ],
      "execution_count": null,
      "outputs": [
        {
          "output_type": "stream",
          "text": [
            "TEST EXITOSO!\n"
          ],
          "name": "stdout"
        }
      ]
    },
    {
      "cell_type": "code",
      "metadata": {
        "id": "RNsDxiFZsBn8",
        "colab": {
          "base_uri": "https://localhost:8080/"
        },
        "outputId": "e76a5ac7-a68d-482a-f2a4-b2370d167291"
      },
      "source": [
        "## la funcion que prueba tu implementacion\n",
        "GRADER_LAB_1_P1.run_test(\"ejercicio5\", evaluar_modelo_poly)"
      ],
      "execution_count": null,
      "outputs": [
        {
          "output_type": "stream",
          "text": [
            "TEST EXITOSO!\n"
          ],
          "name": "stdout"
        }
      ]
    },
    {
      "cell_type": "markdown",
      "metadata": {
        "id": "0yGe9d6ysBn8"
      },
      "source": [
        "Entrenemos y evaluemos el comportamiento del costo con la regresion polinomica ¿El cambio fue bueno?"
      ]
    },
    {
      "cell_type": "code",
      "metadata": {
        "id": "FYhz7MRIt-D8",
        "tags": [],
        "colab": {
          "base_uri": "https://localhost:8080/",
          "height": 293
        },
        "outputId": "2457fdb1-309d-4e1f-b0f3-ee4697a6264f"
      },
      "source": [
        "# entrenamos\n",
        "W, costo_poly = gradiente_descendente_poly(Xtrain, Ytrain, eta = 0.0001, iteraciones=5, grado = 2)\n",
        "plt.plot(range(5), costo_poly)"
      ],
      "execution_count": null,
      "outputs": [
        {
          "output_type": "execute_result",
          "data": {
            "text/plain": [
              "[<matplotlib.lines.Line2D at 0x7f6170da9e50>]"
            ]
          },
          "metadata": {
            "tags": []
          },
          "execution_count": 20
        },
        {
          "output_type": "display_data",
          "data": {
            "image/png": "[encoded data removed]",
            "text/plain": [
              "<Figure size 432x288 with 1 Axes>"
            ]
          },
          "metadata": {
            "tags": [],
            "needs_background": "light"
          }
        }
      ]
    },
    {
      "cell_type": "code",
      "metadata": {
        "id": "CYMnh6n7t-EA",
        "tags": [],
        "colab": {
          "base_uri": "https://localhost:8080/"
        },
        "outputId": "ca899bb2-1198-4f6f-b376-67e743860f99"
      },
      "source": [
        "# completa los parametros para evaluar el modelo\n",
        "error_test = evaluar_modelo_poly(W, X_to_test = Xtest,  Y_True = Ytest, grado = 2)\n",
        "print(\"error en la evaluación del modelo\", error_test)"
      ],
      "execution_count": null,
      "outputs": [
        {
          "output_type": "stream",
          "text": [
            "error en la evaluación del modelo 1.2181188601941178e+90\n"
          ],
          "name": "stdout"
        }
      ]
    },
    {
      "cell_type": "markdown",
      "metadata": {
        "id": "5pBn_Tt6t-EC"
      },
      "source": [
        "### Ejercicio 4: Experimentar\n",
        "\n",
        "En nuestro primer experimento vamos a evaluar el rendimiento del modelo usando varias tasas de aprendizaje y grados de polinimios. Vamos a dejar por ahora un numero de iteraciones fijas = 5. Para ello completa la siguiente función.\n",
        "\n"
      ]
    },
    {
      "cell_type": "code",
      "metadata": {
        "id": "ALxnYTFTt-EC"
      },
      "source": [
        "## ejercicio de codigo\n",
        "def experimentar (Xtrain, Xtest, Ytrain, Ytest, tasas, grados):\n",
        "    \"\"\" funcion para realizar experimentos.\n",
        "    Xtrain: conjunto de datos\n",
        "    Xtest:\n",
        "    Ytrain:\n",
        "    Ytest:\n",
        "    tasas: Es una lista con los valores númericos de tasas de aprendizaje \n",
        "        para realizar los experimentos\n",
        "    grados: Es una lista con los valores númericos de grados \n",
        "        para realizar los experimentos\n",
        "    retorna: un dataframe con el resultados de los experimentos\n",
        "    \"\"\"\n",
        "    numero_iter = 5\n",
        "\n",
        "    resultados = pd.DataFrame()\n",
        "    idx = 0 # indice\n",
        "    for eta in tasas:\n",
        "        for grado in grados:\n",
        "            \n",
        "            # ignorar el costo\n",
        "            W, _ = gradiente_descendente_poly(Xtrain,Ytrain,eta,numero_iter,grado)\n",
        "            error = evaluar_modelo_poly(W,Xtest,Ytest,grado)\n",
        "        \n",
        "            resultados.loc[idx,'grado'] = grado\n",
        "            resultados.loc[idx,'tasa de aprendizaje'] = eta\n",
        "            resultados.loc[idx,'ecm'] = error\n",
        "            idx = idx+1\n",
        "\n",
        "    return (resultados)"
      ],
      "execution_count": null,
      "outputs": []
    },
    {
      "cell_type": "code",
      "metadata": {
        "id": "dKC_CnY1t-EE",
        "tags": [],
        "colab": {
          "base_uri": "https://localhost:8080/"
        },
        "outputId": "28814a1f-1b61-4247-8c0f-387ebd7bc855"
      },
      "source": [
        "## la funcion que prueba tu implementacion\n",
        "GRADER_LAB_1_P1.run_test(\"ejercicio6\", experimentar)"
      ],
      "execution_count": null,
      "outputs": [
        {
          "output_type": "stream",
          "text": [
            "TEST EXITOSO!\n"
          ],
          "name": "stdout"
        }
      ]
    },
    {
      "cell_type": "code",
      "metadata": {
        "id": "8oxa-XkKt-EF",
        "tags": []
      },
      "source": [
        "## Ahora usa para verlos los resultados\n",
        "tasas_aprendizaje = [1e-6, 1e-5, 1e-3, 1e-2]\n",
        "grados_polinomio = [1,2]\n",
        "resultados_ex1 = experimentar(Xtrain, Xtest, Ytrain, Ytest, tasas_aprendizaje, grados_polinomio)"
      ],
      "execution_count": null,
      "outputs": []
    },
    {
      "cell_type": "code",
      "metadata": {
        "id": "zAOcZfoRt-EG",
        "tags": [],
        "colab": {
          "base_uri": "https://localhost:8080/",
          "height": 297
        },
        "outputId": "6c41629a-b317-471c-dda1-2765409b3906"
      },
      "source": [
        "#para ver los resultados\n",
        "resultados_ex1"
      ],
      "execution_count": null,
      "outputs": [
        {
          "output_type": "execute_result",
          "data": {
            "text/html": [
              "<div>\n",
              "<style scoped>\n",
              "    .dataframe tbody tr th:only-of-type {\n",
              "        vertical-align: middle;\n",
              "    }\n",
              "\n",
              "    .dataframe tbody tr th {\n",
              "        vertical-align: top;\n",
              "    }\n",
              "\n",
              "    .dataframe thead th {\n",
              "        text-align: right;\n",
              "    }\n",
              "</style>\n",
              "<table border=\"1\" class=\"dataframe\">\n",
              "  <thead>\n",
              "    <tr style=\"text-align: right;\">\n",
              "      <th></th>\n",
              "      <th>grado</th>\n",
              "      <th>tasa de aprendizaje</th>\n",
              "      <th>ecm</th>\n",
              "    </tr>\n",
              "  </thead>\n",
              "  <tbody>\n",
              "    <tr>\n",
              "      <th>0</th>\n",
              "      <td>1.0</td>\n",
              "      <td>0.000001</td>\n",
              "      <td>5.307181e+07</td>\n",
              "    </tr>\n",
              "    <tr>\n",
              "      <th>1</th>\n",
              "      <td>2.0</td>\n",
              "      <td>0.000001</td>\n",
              "      <td>1.218118e+70</td>\n",
              "    </tr>\n",
              "    <tr>\n",
              "      <th>2</th>\n",
              "      <td>1.0</td>\n",
              "      <td>0.000010</td>\n",
              "      <td>2.803250e+18</td>\n",
              "    </tr>\n",
              "    <tr>\n",
              "      <th>3</th>\n",
              "      <td>2.0</td>\n",
              "      <td>0.000010</td>\n",
              "      <td>1.218119e+80</td>\n",
              "    </tr>\n",
              "    <tr>\n",
              "      <th>4</th>\n",
              "      <td>1.0</td>\n",
              "      <td>0.001000</td>\n",
              "      <td>3.313586e+38</td>\n",
              "    </tr>\n",
              "    <tr>\n",
              "      <th>5</th>\n",
              "      <td>2.0</td>\n",
              "      <td>0.001000</td>\n",
              "      <td>1.218119e+100</td>\n",
              "    </tr>\n",
              "    <tr>\n",
              "      <th>6</th>\n",
              "      <td>1.0</td>\n",
              "      <td>0.010000</td>\n",
              "      <td>3.318586e+48</td>\n",
              "    </tr>\n",
              "    <tr>\n",
              "      <th>7</th>\n",
              "      <td>2.0</td>\n",
              "      <td>0.010000</td>\n",
              "      <td>1.218119e+110</td>\n",
              "    </tr>\n",
              "  </tbody>\n",
              "</table>\n",
              "</div>"
            ],
            "text/plain": [
              "   grado  tasa de aprendizaje            ecm\n",
              "0    1.0             0.000001   5.307181e+07\n",
              "1    2.0             0.000001   1.218118e+70\n",
              "2    1.0             0.000010   2.803250e+18\n",
              "3    2.0             0.000010   1.218119e+80\n",
              "4    1.0             0.001000   3.313586e+38\n",
              "5    2.0             0.001000  1.218119e+100\n",
              "6    1.0             0.010000   3.318586e+48\n",
              "7    2.0             0.010000  1.218119e+110"
            ]
          },
          "metadata": {
            "tags": []
          },
          "execution_count": 26
        }
      ]
    },
    {
      "cell_type": "markdown",
      "metadata": {
        "id": "yoDS2e-gt-EI"
      },
      "source": [
        "Si has implementado todo correctamente, parecieria que nuestros entrenamientos no esta logrando buenos resultados (hasta parece haber errores infinitos! o no determinados!). Ahora Entiende la siguiente función. \n"
      ]
    },
    {
      "cell_type": "code",
      "metadata": {
        "id": "IhHXjgOmt-EI"
      },
      "source": [
        "#Normalizamos los datos\n",
        "def normalizar(Xtrain, Xtest):\n",
        "    \"\"\" función que se usa para normalizar los datos con\n",
        "    un metodo especifico\n",
        "    Xtrain: matriz de datos entrenamiento a normalizar\n",
        "    Xtest: matriz de datos evaluación a normalizar\n",
        "    retorna: matrices normalizadas\n",
        "    \"\"\"\n",
        "    \n",
        "    media = np.mean(Xtrain, axis = 0)\n",
        "    desvia = np.std(Xtrain, axis = 0)\n",
        "    Xtrain_n = stats.stats.zscore(Xtrain)\n",
        "    Xtest_n = (Xtest - media )/desvia\n",
        "    # si hay una desviacion por cero, reemplazamos los nan\n",
        "    Xtrain_n = np.nan_to_num(Xtrain_n)\n",
        "    Xtest_n = np.nan_to_num(Xtest_n)\n",
        "    return (Xtrain_n, Xtest_n)"
      ],
      "execution_count": null,
      "outputs": []
    },
    {
      "cell_type": "markdown",
      "metadata": {
        "id": "PzsHpPk1t-EK"
      },
      "source": [
        "Ahora vuelve a realizar los mismos experimentos pero esta vez usa los valores de salida de la función anterior."
      ]
    },
    {
      "cell_type": "code",
      "metadata": {
        "id": "ZZedE9Qdt-EK",
        "tags": []
      },
      "source": [
        "Xtrain_n, Xtest_n = normalizar(Xtrain, Xtest)"
      ],
      "execution_count": null,
      "outputs": []
    },
    {
      "cell_type": "code",
      "metadata": {
        "id": "j2a8O7c7t-EM",
        "tags": [],
        "colab": {
          "base_uri": "https://localhost:8080/",
          "height": 297
        },
        "outputId": "6c8ee124-42be-4588-bee9-e586bc4ce1eb"
      },
      "source": [
        "resultados_ex2 = experimentar(Xtrain_n, Xtest_n, Ytrain, Ytest, tasas_aprendizaje, grados_polinomio)\n",
        "#para ver los resultados\n",
        "resultados_ex2"
      ],
      "execution_count": null,
      "outputs": [
        {
          "output_type": "execute_result",
          "data": {
            "text/html": [
              "<div>\n",
              "<style scoped>\n",
              "    .dataframe tbody tr th:only-of-type {\n",
              "        vertical-align: middle;\n",
              "    }\n",
              "\n",
              "    .dataframe tbody tr th {\n",
              "        vertical-align: top;\n",
              "    }\n",
              "\n",
              "    .dataframe thead th {\n",
              "        text-align: right;\n",
              "    }\n",
              "</style>\n",
              "<table border=\"1\" class=\"dataframe\">\n",
              "  <thead>\n",
              "    <tr style=\"text-align: right;\">\n",
              "      <th></th>\n",
              "      <th>grado</th>\n",
              "      <th>tasa de aprendizaje</th>\n",
              "      <th>ecm</th>\n",
              "    </tr>\n",
              "  </thead>\n",
              "  <tbody>\n",
              "    <tr>\n",
              "      <th>0</th>\n",
              "      <td>1.0</td>\n",
              "      <td>0.000001</td>\n",
              "      <td>1369.110183</td>\n",
              "    </tr>\n",
              "    <tr>\n",
              "      <th>1</th>\n",
              "      <td>2.0</td>\n",
              "      <td>0.000001</td>\n",
              "      <td>1367.987820</td>\n",
              "    </tr>\n",
              "    <tr>\n",
              "      <th>2</th>\n",
              "      <td>1.0</td>\n",
              "      <td>0.000010</td>\n",
              "      <td>1368.503237</td>\n",
              "    </tr>\n",
              "    <tr>\n",
              "      <th>3</th>\n",
              "      <td>2.0</td>\n",
              "      <td>0.000010</td>\n",
              "      <td>1357.322159</td>\n",
              "    </tr>\n",
              "    <tr>\n",
              "      <th>4</th>\n",
              "      <td>1.0</td>\n",
              "      <td>0.001000</td>\n",
              "      <td>1303.398918</td>\n",
              "    </tr>\n",
              "    <tr>\n",
              "      <th>5</th>\n",
              "      <td>2.0</td>\n",
              "      <td>0.001000</td>\n",
              "      <td>557.607807</td>\n",
              "    </tr>\n",
              "    <tr>\n",
              "      <th>6</th>\n",
              "      <td>1.0</td>\n",
              "      <td>0.010000</td>\n",
              "      <td>841.304714</td>\n",
              "    </tr>\n",
              "    <tr>\n",
              "      <th>7</th>\n",
              "      <td>2.0</td>\n",
              "      <td>0.010000</td>\n",
              "      <td>16.909158</td>\n",
              "    </tr>\n",
              "  </tbody>\n",
              "</table>\n",
              "</div>"
            ],
            "text/plain": [
              "   grado  tasa de aprendizaje          ecm\n",
              "0    1.0             0.000001  1369.110183\n",
              "1    2.0             0.000001  1367.987820\n",
              "2    1.0             0.000010  1368.503237\n",
              "3    2.0             0.000010  1357.322159\n",
              "4    1.0             0.001000  1303.398918\n",
              "5    2.0             0.001000   557.607807\n",
              "6    1.0             0.010000   841.304714\n",
              "7    2.0             0.010000    16.909158"
            ]
          },
          "metadata": {
            "tags": []
          },
          "execution_count": 29
        }
      ]
    },
    {
      "cell_type": "code",
      "metadata": {
        "id": "CANS0MVut-EO",
        "colab": {
          "base_uri": "https://localhost:8080/",
          "height": 383
        },
        "outputId": "940b96f9-5fc6-408c-d983-af341632b56c"
      },
      "source": [
        "# ejecuta esta linea de codigo para graficar tus resultados\n",
        "# aca usamos una libreria llamada seaborn\n",
        "import seaborn as sns\n",
        "s = sns.catplot(data = resultados_ex2, x = 'tasa de aprendizaje',\n",
        "            y = 'ecm',hue ='grado', kind = 'bar', )"
      ],
      "execution_count": null,
      "outputs": [
        {
          "output_type": "display_data",
          "data": {
            "image/png": "[encoded data removed]",
            "text/plain": [
              "<Figure size 411.875x360 with 1 Axes>"
            ]
          },
          "metadata": {
            "tags": [],
            "needs_background": "light"
          }
        }
      ]
    },
    {
      "cell_type": "markdown",
      "metadata": {
        "id": "LLvDR6k5t-EQ"
      },
      "source": [
        "Ten en cuenta el resutaldo de los  dos experimentos y  responde la  siguiente pregunta abierta"
      ]
    },
    {
      "cell_type": "code",
      "metadata": {
        "cellView": "form",
        "id": "aVFbsu0wt-EQ"
      },
      "source": [
        "#@title Pregunta Abierta\n",
        "#@markdown  ¿Qué proceso hace la normalización sobre los datos? Consulte por qué es necesaria la normalización en el modelo de regresión y cuáles son los tipos de normalización más comunes. ¿Cuál de ellos se aplicó en el laboratorio?\n",
        "respuesta_6 = \"\\\"la normalizaci\\\\xF3n ayuda en cuestiones num\\\\xE9ricas y en la interpretaci\\\\xF3n de los datos, esto con el fin de que a la hora de realizar comparaciones sea mas sencillo. Existen varios tipos de normalizaci\\\\xF3n como el m\\\\xE9todo de T-student, Puntualizaci\\\\xF3n tipificada o entandar, entre otras. En este caso se uso la Puntualizaci\\\\xF3n tipificada ya que se hace uso de la media y la desviaci\\\\xF3n est\\\\xE1ndar  \\\"\" #@param {type:\"string\"}"
      ],
      "execution_count": null,
      "outputs": []
    },
    {
      "cell_type": "markdown",
      "metadata": {
        "id": "1Z3nka5at-ES"
      },
      "source": [
        "Finalmente, en nuestro tercer experimento, vamos ver el efecto de las iteraciones sobre el error. completa la siguiente función. Esta vez la tasa de aprendizaje es constante"
      ]
    },
    {
      "cell_type": "code",
      "metadata": {
        "id": "i2eHfZC9t-ES",
        "tags": []
      },
      "source": [
        "## ejercicio de codigo\n",
        "def experimentar_2 (Xtrain, Xtest, Ytrain, Ytest, iteraciones, grados):\n",
        "    \"\"\" funcion para realizar experimentos.\n",
        "    Xtrain: conjunto de datos\n",
        "    Xtest:\n",
        "    Ytrain:\n",
        "    Ytest:\n",
        "    tasas: Es una lista con los valores númericos de tasas de aprendizaje \n",
        "        para realizar los experimentos\n",
        "    rangos: Es una lista con los valores númericos de grados \n",
        "        para realizar los experimentos\n",
        "    retorna: un dataframe con el resultados de los experimentos\n",
        "    \"\"\"\n",
        "    eta = 1e-2\n",
        "    resultados = pd.DataFrame()\n",
        "    idx = 0 # indice\n",
        "    for iter in iteraciones:\n",
        "        for grado in grados:\n",
        "            # ignora el costo\n",
        "            W , _= gradiente_descendente_poly(Xtrain,Ytrain,eta,iter,grado)\n",
        "            error = evaluar_modelo_poly(W,Xtest,Ytest,grado)\n",
        "        \n",
        "            resultados.loc[idx,'iteraciones'] = iter\n",
        "            resultados.loc[idx,'grado'] = grado\n",
        "            resultados.loc[idx,'ecm'] = error\n",
        "            idx = idx+1\n",
        "    return (resultados)"
      ],
      "execution_count": null,
      "outputs": []
    },
    {
      "cell_type": "code",
      "metadata": {
        "id": "1Q3TALf8t-ET",
        "tags": [],
        "colab": {
          "base_uri": "https://localhost:8080/"
        },
        "outputId": "975eb50c-dcde-4857-9f38-442bd52fb9fa"
      },
      "source": [
        "## la funcion que prueba tu implementacion\n",
        "GRADER_LAB_1_P1.run_test(\"ejercicio7\", experimentar_2)"
      ],
      "execution_count": null,
      "outputs": [
        {
          "output_type": "stream",
          "text": [
            "TEST EXITOSO!\n"
          ],
          "name": "stdout"
        }
      ]
    },
    {
      "cell_type": "code",
      "metadata": {
        "id": "GZIKf7PIt-EV",
        "tags": []
      },
      "source": [
        "num_iters = [1,5,10,50, 100,200, 1000, 2000]\n",
        "grados_polinomio = [1,2]\n",
        "# usamos la funcion para evaliar los resultados\n",
        "resultados_ex3 = experimentar_2(Xtrain_n, Xtest_n, Ytrain, Ytest, num_iters, grados_polinomio )"
      ],
      "execution_count": null,
      "outputs": []
    },
    {
      "cell_type": "code",
      "metadata": {
        "id": "E5ekonH6t-EW"
      },
      "source": [
        "# ejecuta esta linea de codigo para ver raficamente tus resultados\n",
        "# aca usamos una libreria llamada seaborn\n",
        "import seaborn as sns\n",
        "sns.relplot(data = resultados_ex3, x = 'iteraciones',\n",
        "            y = 'ecm',col ='grado', kind = 'line')"
      ],
      "execution_count": null,
      "outputs": []
    },
    {
      "cell_type": "code",
      "metadata": {
        "cellView": "form",
        "id": "Y0-BAqdgt-EY"
      },
      "source": [
        "#@title Pregunta Abierta\n",
        "#@markdown  ¿con base a los resultados anteriores, qué efecto tiene el numero de iteraciones en el error?\n",
        "respuesta_7 = \"Podemos ver que a medida que van aumentando las iteraciones el ecm va disminuyendo hasta un punto que este se estabiliza, en otras palabras hay una relaci\\xF3n proporcional entre las iteraciones y el ecm\" #@param {type:\"string\"}"
      ],
      "execution_count": null,
      "outputs": []
    },
    {
      "cell_type": "markdown",
      "metadata": {
        "id": "dEjNoLM6QiKi"
      },
      "source": [
        "# Sección nueva"
      ]
    },
    {
      "cell_type": "code",
      "metadata": {
        "id": "gkLeD-pMuk_g",
        "colab": {
          "base_uri": "https://localhost:8080/"
        },
        "outputId": "bd9cce27-80e1-4560-ef4e-292784bd18c3"
      },
      "source": [
        "GRADER_LAB_1_P1.check_tests()"
      ],
      "execution_count": null,
      "outputs": [
        {
          "output_type": "stream",
          "text": [
            "Todo se ve ok. Asegurate de responder las preguntas abiertas y envia e archivo al formulario ¡buen trabajo!\n"
          ],
          "name": "stdout"
        }
      ]
    },
    {
      "cell_type": "code",
      "metadata": {
        "cellView": "form",
        "id": "Xz0gLt5At-Ec"
      },
      "source": [
        "#@title Integrantes\n",
        "codigo_integrante_1 ='1234989997' #@param {type:\"string\"}\n",
        "codigo_integrante_2 = '1214741483'  #@param {type:\"string\"}"
      ],
      "execution_count": null,
      "outputs": []
    },
    {
      "cell_type": "markdown",
      "metadata": {
        "id": "C_jp0Yjot-Ee"
      },
      "source": [
        "----\n",
        "esta linea de codigo va fallar, es de uso exclusivo del los profesores\n"
      ]
    },
    {
      "cell_type": "code",
      "metadata": {
        "id": "OxiTM5g7t-Ef",
        "colab": {
          "base_uri": "https://localhost:8080/"
        },
        "outputId": "a7358d75-c3c3-4c2b-80e1-4276ae081505"
      },
      "source": [
        "GRADER_LAB_1_P1.grade()"
      ],
      "execution_count": null,
      "outputs": [
        {
          "output_type": "stream",
          "text": [
            "uso del docente\n"
          ],
          "name": "stdout"
        }
      ]
    }
  ]
}